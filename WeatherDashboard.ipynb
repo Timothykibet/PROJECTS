{
  "nbformat": 4,
  "nbformat_minor": 0,
  "metadata": {
    "colab": {
      "provenance": [],
      "authorship_tag": "ABX9TyMii3281wbyRp4L2KRAYse9",
      "include_colab_link": true
    },
    "kernelspec": {
      "name": "python3",
      "display_name": "Python 3"
    },
    "language_info": {
      "name": "python"
    }
  },
  "cells": [
    {
      "cell_type": "markdown",
      "metadata": {
        "id": "view-in-github",
        "colab_type": "text"
      },
      "source": [
        "<a href=\"https://colab.research.google.com/github/Timothykibet/PROJECTS/blob/main/WeatherDashboard.ipynb\" target=\"_parent\"><img src=\"https://colab.research.google.com/assets/colab-badge.svg\" alt=\"Open In Colab\"/></a>"
      ]
    },
    {
      "cell_type": "code",
      "execution_count": null,
      "metadata": {
        "id": "89zyULUUDh3W"
      },
      "outputs": [],
      "source": []
    },
    {
      "cell_type": "code",
      "source": [
        "# Import necessary library\n",
        "import requests\n",
        "\n",
        "# Function to get current weather data for a given location\n",
        "def get_weather(location):\n",
        "    url = f\"https://wttr.in/{location}?format=%C+%t+%w\"\n",
        "    response = requests.get(url)\n",
        "    if response.status_code == 200:\n",
        "        return response.text\n",
        "    else:\n",
        "        return \"Failed to retrieve weather data.\"\n",
        "\n",
        "# Function to get a 3-day forecast for a given location\n",
        "def get_forecast(location):\n",
        "    url = f\"https://wttr.in/{location}?0\"  # `?0` displays a 3-day forecast\n",
        "    response = requests.get(url)\n",
        "    if response.status_code == 200:\n",
        "        return response.text\n",
        "    else:\n",
        "        return \"Failed to retrieve weather forecast.\"\n",
        "\n",
        "# Main program to interact with the user and display weather information\n",
        "def main():\n",
        "    # Get location input from the user\n",
        "    location = input(\"Enter a location (city or country): \")\n",
        "\n",
        "    # Get and display current weather\n",
        "    weather_data = get_weather(location)\n",
        "    if \"Unknown location\" in weather_data:\n",
        "        print(\"Invalid location entered, please try again.\")\n",
        "    else:\n",
        "        print(f\"Current weather for {location}: {weather_data}\")\n",
        "\n",
        "    # Get and display the 3-day forecast\n",
        "    forecast_data = get_forecast(location)\n",
        "    if forecast_data != \"Failed to retrieve weather forecast.\":\n",
        "        print(f\"\\n3-Day Forecast for {location}:\\n{forecast_data}\")\n",
        "    else:\n",
        "        print(\"Could not retrieve forecast data.\")\n",
        "\n",
        "# Run the main function\n",
        "main()\n"
      ],
      "metadata": {
        "colab": {
          "base_uri": "https://localhost:8080/"
        },
        "id": "Y8k25PpgDkXe",
        "outputId": "2e6efd85-84d0-4e1c-b82a-a273c20590cb"
      },
      "execution_count": 1,
      "outputs": [
        {
          "output_type": "stream",
          "name": "stdout",
          "text": [
            "Enter a location (city or country): kenya\n",
            "Current weather for kenya: Patchy rain nearby +23°C ↑13km/h\n",
            "\n",
            "3-Day Forecast for kenya:\n",
            "Weather report: kenya\n",
            "\n",
            "  \u001b[38;5;226m _`/\"\"\u001b[38;5;250m.-.    \u001b[0m Patchy rain nearby\n",
            "  \u001b[38;5;226m  ,\\_\u001b[38;5;250m(   ).  \u001b[0m \u001b[38;5;226m+23\u001b[0m(\u001b[38;5;220m25\u001b[0m) °C\u001b[0m     \n",
            "  \u001b[38;5;226m   /\u001b[38;5;250m(___(__) \u001b[0m \u001b[1m↖\u001b[0m \u001b[38;5;226m13\u001b[0m km/h\u001b[0m      \n",
            "  \u001b[38;5;111m     ‘ ‘ ‘ ‘ \u001b[0m 9 km\u001b[0m           \n",
            "  \u001b[38;5;111m    ‘ ‘ ‘ ‘  \u001b[0m 0.6 mm\u001b[0m         \n",
            "\n"
          ]
        }
      ]
    }
  ]
}